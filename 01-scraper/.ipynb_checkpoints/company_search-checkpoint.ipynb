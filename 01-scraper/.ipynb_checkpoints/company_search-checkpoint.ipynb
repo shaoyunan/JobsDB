{
 "cells": [
  {
   "cell_type": "markdown",
   "metadata": {},
   "source": [
    "# Scraper for Companies\n",
    "### This is the scraper for searching companies in given domain, the string of variable 'queries' is the key word for the search.\n",
    "* Library Usage: selenium `pip install selenium`, beautifulsoup`pip install beautifulsoup4`\n",
    "* Target website: angel.co\n",
    "* Results are stored in companies.csv file under data folder\n",
    "* Fields of output: Date of Join, Kind, Company webpage link on angel.co, location, market, name, investment raised, company size, stage, official website,the keyword used for searching this company\n",
    "* Reference:https://github.com/rodrigosnader/angel-scraper"
   ]
  },
  {
   "cell_type": "code",
   "execution_count": null,
   "metadata": {},
   "outputs": [],
   "source": [
    "#queries = ['computer vision', 'image understanding']\n",
    "queries = ['computer vision']"
   ]
  },
  {
   "cell_type": "code",
   "execution_count": 1,
   "metadata": {},
   "outputs": [],
   "source": [
    "import bs4 as bs\n",
    "import pandas as pd\n",
    "import time\n",
    "from selenium import webdriver\n",
    "from selenium.webdriver.common.keys import Keys\n",
    "from selenium.webdriver.common.by import By \n",
    "from selenium.webdriver.support.ui import WebDriverWait\n",
    "from selenium.webdriver.support import expected_conditions as EC"
   ]
  },
  {
   "cell_type": "code",
   "execution_count": 2,
   "metadata": {},
   "outputs": [],
   "source": [
    "def get_results(query, type_=None, stage=None, tech=None):\n",
    "    \n",
    "#     tech is possible only if type not None, same for others\n",
    "\n",
    "    if type_:\n",
    "        type_ = type_.replace(' ', '+')\n",
    "        url = 'https://angel.co/companies' + '?company_types[]=' + type_\n",
    "        if stage:\n",
    "            url = url + '&stage=' + stage\n",
    "            if tech:\n",
    "                url = url + '&teches[]=' + tech\n",
    "    else:  \n",
    "        url = 'https://angel.co/companies' \n",
    "\n",
    "    options = webdriver.ChromeOptions()\n",
    "    options.add_argument('headless')\n",
    "    \n",
    "    driver = webdriver.Chrome(options=None)\n",
    "    driver.set_window_position(3000,0)\n",
    "    driver.get(url)\n",
    "    time.sleep(5)\n",
    "    \n",
    "    search_box = driver.find_element_by_class_name(\"search-box\")\n",
    "    search_box.click()\n",
    "    \n",
    "    input_bar = driver.find_element_by_class_name('keyword-input')\n",
    "    input_bar.send_keys(query)\n",
    "    input_bar.send_keys(Keys.ENTER)\n",
    "    time.sleep(3)\n",
    "\n",
    "    while True:\n",
    "        try:\n",
    "            source = driver.page_source\n",
    "            loadMoreButton = driver.find_element_by_class_name('more').click()\n",
    "            time.sleep(4)\n",
    "        except: \n",
    "            break\n",
    "            \n",
    "    driver.close()\n",
    "\n",
    "    try:\n",
    "        soup = bs.BeautifulSoup(source, 'lxml')\n",
    "        result_list =  soup.find_all('div', {'class': 'results'})[0]\n",
    "        results = result_list.find_all('div', {'data-_tn': 'companies/row'})\n",
    "    except:\n",
    "        print('Could not get results')\n",
    "        return\n",
    "\n",
    "    \n",
    "    return results\n",
    "\n",
    "\n",
    "def parse_results(results):\n",
    "    df = pd.DataFrame(columns=['kind', 'link', 'name', 'pitch', 'joined', 'location', 'market', 'size', 'stage', 'raised'],\n",
    "                  index=[0])\n",
    "    for result in results[1:]:\n",
    "        try:\n",
    "            dic = {}\n",
    "            try:\n",
    "                dic['kind'] = result.a['data-type']\n",
    "            except: dic['kind'] = None\n",
    "\n",
    "            try:\n",
    "                dic['link'] = result.a['href']\n",
    "            except: dic['link'] = None\n",
    "\n",
    "            try:\n",
    "                dic['name'] = result.a['title']\n",
    "            except: dic['name'] = None\n",
    "                \n",
    "            try:\n",
    "                dic['website'] = result.find('div', {'data-column': 'website'}).text.split()[1]\n",
    "            except: dic['website'] = None\n",
    "\n",
    "            try:\n",
    "                dic['pitch'] = result.find('div', {'class': 'pitch'}).text\n",
    "            except: dic['pitch'] = None\n",
    "\n",
    "            try:\n",
    "                dic['joined'] = result.find('div', {'data-column': 'joined'}).text.split('Joined')[1].strip()\n",
    "            except: dic['joined'] = None\n",
    "\n",
    "            try:\n",
    "                dic['location'] = result.find('div', {'data-column': 'location'}).text.split('Location')[1].strip()\n",
    "            except: dic['location'] = None\n",
    "\n",
    "            try:\n",
    "                dic['market'] = result.find('div', {'data-column': 'market'}).text.split('Market')[1].strip()\n",
    "            except: dic['market'] = None\n",
    "\n",
    "            try:\n",
    "                dic['size'] = result.find('div', {'data-column': 'company_size'}).text.split()[1]\n",
    "            except: dic['size'] = None\n",
    "\n",
    "            try:\n",
    "                dic['stage'] = result.find('div', {'data-column': 'stage'}).text.split('Stage')[1].strip()\n",
    "            except: dic['stage'] = None\n",
    "\n",
    "            try:\n",
    "                dic['raised'] = result.find('div', {'data-column': 'raised'}).text.split('Raised')[1].strip()\n",
    "            except: dic['raised'] = None\n",
    "\n",
    "            df = df.append(pd.DataFrame(dic, index=[0]))\n",
    "\n",
    "        except: pass\n",
    "\n",
    "    df = df.reset_index(drop=True)\n",
    "    return df\n",
    "\n",
    "\n",
    "\n",
    "def get_companies(query, type_=None, stage=None, tech=None):\n",
    "    results = get_results(query, type_, stage, tech)\n",
    "    if results:\n",
    "        df = parse_results(results)\n",
    "        return df"
   ]
  },
  {
   "cell_type": "code",
   "execution_count": 3,
   "metadata": {},
   "outputs": [
    {
     "name": "stderr",
     "output_type": "stream",
     "text": [
      "C:\\Users\\FRE\\Anaconda3\\lib\\site-packages\\pandas\\core\\frame.py:6211: FutureWarning: Sorting because non-concatenation axis is not aligned. A future version\n",
      "of pandas will change to not sort by default.\n",
      "\n",
      "To accept the future behavior, pass 'sort=False'.\n",
      "\n",
      "To retain the current behavior and silence the warning, pass 'sort=True'.\n",
      "\n",
      "  sort=sort)\n"
     ]
    },
    {
     "name": "stdout",
     "output_type": "stream",
     "text": [
      "Done\n",
      "0              NaN\n",
      "1    New York City\n",
      "2    Mountain View\n",
      "3        Sunnyvale\n",
      "4    San Francisco\n",
      "Name: location, dtype: object\n"
     ]
    }
   ],
   "source": [
    "df = pd.DataFrame()\n",
    "for query in queries:\n",
    "    try:\n",
    "        companies = get_companies(query)\n",
    "        companies['query'] = query\n",
    "        print('Done')\n",
    "    except Exception as e: \n",
    "        companies = pd.DataFrame()\n",
    "        print('Could not get companies')\n",
    "        print('\\n')\n",
    "        print(e)\n",
    "        print('\\n')\n",
    "        pass\n",
    "\n",
    "    try:\n",
    "        if df.empty:\n",
    "            df = companies\n",
    "        else:\n",
    "            df = df.append(companies)\n",
    "    except:\n",
    "        print('Unable to append new data.')\n",
    "        pass\n",
    "                    \n",
    "df = df.reset_index(drop=True)\n",
    "df.to_csv('../00-data/companies.csv')\n",
    "print(df.location.head())"
   ]
  },
  {
   "cell_type": "markdown",
   "metadata": {},
   "source": [
    "## Contributions \n",
    "-By own: 50%  \n",
    "-By online resources: 50%  "
   ]
  },
  {
   "cell_type": "markdown",
   "metadata": {},
   "source": [
    "## Citations\n",
    "1. https://github.com/rodrigosnader/angel-scraper"
   ]
  },
  {
   "cell_type": "markdown",
   "metadata": {},
   "source": [
    "## License\n",
    "\n",
    "Copyright 2019 COPYRIGHT Yunan Shao\n",
    "\n",
    "Permission is hereby granted, free of charge, to any person obtaining a copy of this software and associated documentation files (the \"Software\"), to deal in the Software without restriction, including without limitation the rights to use, copy, modify, merge, publish, distribute, sublicense, and/or sell copies of the Software, and to permit persons to whom the Software is furnished to do so, subject to the following conditions:\n",
    "\n",
    "The above copyright notice and this permission notice shall be included in all copies or substantial portions of the Software.\n",
    "\n",
    "THE SOFTWARE IS PROVIDED \"AS IS\", WITHOUT WARRANTY OF ANY KIND, EXPRESS OR IMPLIED, INCLUDING BUT NOT LIMITED TO THE WARRANTIES OF MERCHANTABILITY, FITNESS FOR A PARTICULAR PURPOSE AND NONINFRINGEMENT. IN NO EVENT SHALL THE AUTHORS OR COPYRIGHT HOLDERS BE LIABLE FOR ANY CLAIM, DAMAGES OR OTHER LIABILITY, WHETHER IN AN ACTION OF CONTRACT, TORT OR OTHERWISE, ARISING FROM, OUT OF OR IN CONNECTION WITH THE SOFTWARE OR THE USE OR OTHER DEALINGS IN THE SOFTWARE."
   ]
  },
  {
   "cell_type": "code",
   "execution_count": null,
   "metadata": {},
   "outputs": [],
   "source": []
  }
 ],
 "metadata": {
  "kernelspec": {
   "display_name": "Python 3",
   "language": "python",
   "name": "python3"
  },
  "language_info": {
   "codemirror_mode": {
    "name": "ipython",
    "version": 3
   },
   "file_extension": ".py",
   "mimetype": "text/x-python",
   "name": "python",
   "nbconvert_exporter": "python",
   "pygments_lexer": "ipython3",
   "version": "3.7.1"
  }
 },
 "nbformat": 4,
 "nbformat_minor": 2
}
