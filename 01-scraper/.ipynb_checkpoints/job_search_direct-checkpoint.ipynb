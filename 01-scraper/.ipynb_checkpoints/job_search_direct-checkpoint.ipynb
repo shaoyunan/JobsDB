{
 "cells": [
  {
   "cell_type": "markdown",
   "metadata": {},
   "source": [
    "# Scraper for Direct Job Search\n",
    "### Scaper for directly searching with keywords and location, variable company and location are used for keyword searching\n",
    "\n",
    "* Website: glassdoor.com\n",
    "* Library usage: selenium\n",
    "`\n",
    "pip install selenium\n",
    "`\n",
    "* Results are stored in joblist_raw.csv under data folder\n",
    "* Fields of output: 'title', 'company', 'location', 'description', 'salary', 'link'\n",
    "* Refrence: https://github.com/natmod/glassdoor-scrape"
   ]
  },
  {
   "cell_type": "markdown",
   "metadata": {},
   "source": [
    "## Instruction\n",
    "* Edit the keywords used for searching in the next cell\n",
    "* Need to login for the first time usage.\n",
    "* Query without specific location will return an exception becasue there is actually no remaining page but the previous page indicates there are more pages. Just ignore the exception and run the next cell to save the content into a csv file.\n",
    "* There might be a pop-up window for watching the jobs. I tried to perform the 'click' operation to skip it but the id/class variable is randomly generated. Just click it manually for now."
   ]
  },
  {
   "cell_type": "code",
   "execution_count": null,
   "metadata": {},
   "outputs": [],
   "source": [
    "#company='Computer Vision Scientist'\n",
    "#company='Computer Vision Engineer'\n",
    "company='Computer Vision'\n",
    "location=''"
   ]
  },
  {
   "cell_type": "code",
   "execution_count": 29,
   "metadata": {},
   "outputs": [],
   "source": [
    "from selenium import webdriver\n",
    "from selenium.webdriver.common.keys import Keys\n",
    "from selenium.webdriver.support.ui import WebDriverWait\n",
    "from selenium.webdriver.common.action_chains import ActionChains\n",
    "from time import sleep\n",
    "import random\n",
    "from time import sleep\n",
    "import random\n",
    "import unicodecsv as csv\n",
    "import pandas as pd"
   ]
  },
  {
   "cell_type": "code",
   "execution_count": 1,
   "metadata": {},
   "outputs": [],
   "source": [
    "#This function will take the webdriver, a job title keyword and a location as input,\n",
    "#it will perform the search using selenium (location is currently commented for more listed jobs)\n",
    "def search_jobs(driver, job_title_input, location_input):\n",
    "    job_title = driver.find_element_by_id(\"sc.keyword\")\n",
    "    job_title.send_keys(job_title_input)\n",
    "    location = driver.find_element_by_id(\"sc.location\")\n",
    "    location.send_keys(Keys.CONTROL + \"a\")\n",
    "    location.send_keys(Keys.DELETE)\n",
    "    sleep(5)\n",
    "    #location.send_keys(location_input)\n",
    "    driver.find_element_by_id(\"HeroSearchButton\").click()\n",
    "    sleep(5)\n",
    "    return"
   ]
  },
  {
   "cell_type": "code",
   "execution_count": 31,
   "metadata": {},
   "outputs": [],
   "source": [
    "#This function use selenium to find and parse the target element, xpath or classname is used to locate the web element.\n",
    "#It will automatically click on next page if available. A text output will shows the round number.\n",
    "def read_listings(driver, listings, idx, results):\n",
    "    for listing in listings:\n",
    "        info = listing.find_element_by_class_name(\"empLoc\")\n",
    "        company = info.find_element_by_tag_name(\"div\")\n",
    "        company_name=company\n",
    "        company_location=company\n",
    "        try:\n",
    "            company_name, company_location = company.text.split(' – ')\n",
    "        except:\n",
    "            pass\n",
    "        listing.click()\n",
    "        sleep(5)\n",
    "        sleep(random.randint(1,5))\n",
    "        #check for the pop-up\n",
    "        \n",
    "        try:\n",
    "            driver.findElement(By.xpath(\"//div[contains(text(),'\"+ModalStyle__xBtn+\"')]\")).click\n",
    "        except:\n",
    "            pass\n",
    "        \n",
    "        salary=''\n",
    "\n",
    "        try:\n",
    "            salary=driver.find_element_by_xpath('//*[@id=\"HeroHeaderModule\"]/div[3]/div[4]/div/span').text\n",
    "        except:\n",
    "            pass\n",
    "\n",
    "        \n",
    "        link=''\n",
    "        link =driver.find_element_by_xpath('//*[@id=\"HeroHeaderModule\"]/div[3]/div[2]/div[1]/a').get_attribute('href')\n",
    "\n",
    "        \n",
    "        description = driver.find_element_by_class_name(\"jobDescriptionContent\").text\n",
    "        title = driver.find_element_by_class_name(\"header\").find_element_by_tag_name(\"h1\").text\n",
    "        results[idx] =  {'title' : title, 'company' : company_name, 'location' : company_location, 'description' : description, 'salary' : salary, 'link' : link}\n",
    "        idx += 1\n",
    "    return idx, results\n"
   ]
  },
  {
   "cell_type": "code",
   "execution_count": 32,
   "metadata": {},
   "outputs": [],
   "source": [
    "#options = webdriver.ChromeOptions()\n",
    "#options.add_argument(\"user-data-dir=selenium\") \n",
    "#driver = webdriver.Chrome(options=options)\n",
    "#url = \"https://www.glassdoor.com/index.htm\""
   ]
  },
  {
   "cell_type": "code",
   "execution_count": 36,
   "metadata": {},
   "outputs": [
    {
     "name": "stdout",
     "output_type": "stream",
     "text": [
      "46298\n",
      "starting round\n",
      "end of round, new index: 33\n",
      "starting round\n",
      "end of round, new index: 65\n",
      "starting round\n",
      "end of round, new index: 97\n",
      "starting round\n",
      "end of round, new index: 129\n",
      "starting round\n",
      "end of round, new index: 161\n",
      "starting round\n",
      "end of round, new index: 193\n",
      "starting round\n",
      "end of round, new index: 225\n",
      "starting round\n",
      "end of round, new index: 257\n",
      "starting round\n",
      "end of round, new index: 289\n",
      "starting round\n",
      "end of round, new index: 321\n",
      "starting round\n",
      "end of round, new index: 353\n",
      "starting round\n",
      "end of round, new index: 385\n",
      "starting round\n",
      "end of round, new index: 417\n",
      "starting round\n",
      "end of round, new index: 449\n",
      "starting round\n",
      "end of round, new index: 481\n",
      "starting round\n",
      "end of round, new index: 513\n",
      "starting round\n",
      "end of round, new index: 544\n",
      "starting round\n",
      "end of round, new index: 576\n",
      "starting round\n",
      "end of round, new index: 608\n",
      "starting round\n",
      "end of round, new index: 640\n",
      "starting round\n",
      "end of round, new index: 672\n",
      "starting round\n",
      "end of round, new index: 704\n",
      "starting round\n",
      "end of round, new index: 736\n",
      "starting round\n",
      "end of round, new index: 768\n",
      "starting round\n",
      "end of round, new index: 800\n",
      "starting round\n",
      "end of round, new index: 831\n",
      "starting round\n",
      "end of round, new index: 862\n",
      "starting round\n",
      "end of round, new index: 892\n",
      "starting round\n",
      "end of round, new index: 922\n",
      "starting round\n"
     ]
    },
    {
     "ename": "TimeoutException",
     "evalue": "Message: \n",
     "output_type": "error",
     "traceback": [
      "\u001b[1;31m---------------------------------------------------------------------------\u001b[0m",
      "\u001b[1;31mTimeoutException\u001b[0m                          Traceback (most recent call last)",
      "\u001b[1;32m<ipython-input-36-29f92834d5b5>\u001b[0m in \u001b[0;36m<module>\u001b[1;34m\u001b[0m\n\u001b[0;32m     42\u001b[0m     \u001b[0mnext_btn\u001b[0m\u001b[1;33m.\u001b[0m\u001b[0mclick\u001b[0m\u001b[1;33m(\u001b[0m\u001b[1;33m)\u001b[0m\u001b[1;33m\u001b[0m\u001b[1;33m\u001b[0m\u001b[0m\n\u001b[0;32m     43\u001b[0m     \u001b[1;31m#tell webdriver to wait until it finds the job listing elements on the new page\u001b[0m\u001b[1;33m\u001b[0m\u001b[1;33m\u001b[0m\u001b[1;33m\u001b[0m\u001b[0m\n\u001b[1;32m---> 44\u001b[1;33m     \u001b[0mWebDriverWait\u001b[0m\u001b[1;33m(\u001b[0m\u001b[0mdriver\u001b[0m\u001b[1;33m,\u001b[0m \u001b[1;36m100\u001b[0m\u001b[1;33m)\u001b[0m\u001b[1;33m.\u001b[0m\u001b[0muntil\u001b[0m\u001b[1;33m(\u001b[0m\u001b[1;32mlambda\u001b[0m \u001b[0mdriver\u001b[0m\u001b[1;33m:\u001b[0m \u001b[0mdriver\u001b[0m\u001b[1;33m.\u001b[0m\u001b[0mfind_elements_by_class_name\u001b[0m\u001b[1;33m(\u001b[0m\u001b[1;34m\"jl\"\u001b[0m\u001b[1;33m)\u001b[0m\u001b[1;33m)\u001b[0m\u001b[1;33m\u001b[0m\u001b[1;33m\u001b[0m\u001b[0m\n\u001b[0m\u001b[0;32m     45\u001b[0m     \u001b[1;31m#let the user know how many job listings have been scraped\u001b[0m\u001b[1;33m\u001b[0m\u001b[1;33m\u001b[0m\u001b[1;33m\u001b[0m\u001b[0m\n\u001b[0;32m     46\u001b[0m     \u001b[0mprint\u001b[0m\u001b[1;33m(\u001b[0m\u001b[1;34m\"end of round, new index: \"\u001b[0m \u001b[1;33m+\u001b[0m \u001b[0mstr\u001b[0m\u001b[1;33m(\u001b[0m\u001b[0midx\u001b[0m\u001b[1;33m)\u001b[0m\u001b[1;33m)\u001b[0m\u001b[1;33m\u001b[0m\u001b[1;33m\u001b[0m\u001b[0m\n",
      "\u001b[1;32m~\\Anaconda3\\lib\\site-packages\\selenium\\webdriver\\support\\wait.py\u001b[0m in \u001b[0;36muntil\u001b[1;34m(self, method, message)\u001b[0m\n\u001b[0;32m     78\u001b[0m             \u001b[1;32mif\u001b[0m \u001b[0mtime\u001b[0m\u001b[1;33m.\u001b[0m\u001b[0mtime\u001b[0m\u001b[1;33m(\u001b[0m\u001b[1;33m)\u001b[0m \u001b[1;33m>\u001b[0m \u001b[0mend_time\u001b[0m\u001b[1;33m:\u001b[0m\u001b[1;33m\u001b[0m\u001b[1;33m\u001b[0m\u001b[0m\n\u001b[0;32m     79\u001b[0m                 \u001b[1;32mbreak\u001b[0m\u001b[1;33m\u001b[0m\u001b[1;33m\u001b[0m\u001b[0m\n\u001b[1;32m---> 80\u001b[1;33m         \u001b[1;32mraise\u001b[0m \u001b[0mTimeoutException\u001b[0m\u001b[1;33m(\u001b[0m\u001b[0mmessage\u001b[0m\u001b[1;33m,\u001b[0m \u001b[0mscreen\u001b[0m\u001b[1;33m,\u001b[0m \u001b[0mstacktrace\u001b[0m\u001b[1;33m)\u001b[0m\u001b[1;33m\u001b[0m\u001b[1;33m\u001b[0m\u001b[0m\n\u001b[0m\u001b[0;32m     81\u001b[0m \u001b[1;33m\u001b[0m\u001b[0m\n\u001b[0;32m     82\u001b[0m     \u001b[1;32mdef\u001b[0m \u001b[0muntil_not\u001b[0m\u001b[1;33m(\u001b[0m\u001b[0mself\u001b[0m\u001b[1;33m,\u001b[0m \u001b[0mmethod\u001b[0m\u001b[1;33m,\u001b[0m \u001b[0mmessage\u001b[0m\u001b[1;33m=\u001b[0m\u001b[1;34m''\u001b[0m\u001b[1;33m)\u001b[0m\u001b[1;33m:\u001b[0m\u001b[1;33m\u001b[0m\u001b[1;33m\u001b[0m\u001b[0m\n",
      "\u001b[1;31mTimeoutException\u001b[0m: Message: \n"
     ]
    }
   ],
   "source": [
    "options = webdriver.ChromeOptions()\n",
    "options.add_argument(\"user-data-dir=selenium\") \n",
    "driver = webdriver.Chrome(options=options)\n",
    "#url = \"https://www.glassdoor.com/Job/jobs.htm?sc.keyword=Computer%20Vision%20Engineer&locT=&locId=0&locKeyword=&srs=RECENT_SEARCHES&jl=3061380403\"\n",
    "url = \"https://www.glassdoor.com/index.htm\"\n",
    "driver.get(url)\n",
    "\n",
    "search_jobs(driver, company, location)\n",
    "\n",
    "listings = driver.find_elements_by_class_name(\"jl\")\n",
    "idx = 1\n",
    "results = {}\n",
    "#find total number of job postings\n",
    "job_count = int(driver.find_element_by_class_name(\"jobsCount\").text[:-5].replace(',', ''))\n",
    "print(job_count)\n",
    "\n",
    "while True:\n",
    "    #let user know the scraping has started\n",
    "    print(\"starting round\")\n",
    "    #find job listing elements on web page\n",
    "    listings = driver.find_elements_by_class_name(\"jl\")\n",
    "    #read through job listings and store index and results\n",
    "    idx, results = read_listings(driver, listings, idx, results)\n",
    "    #if the job listing index is higher than the total number of job postings found from the search, finish the search\n",
    "    if idx > job_count:\n",
    "        print(\"end of search, final index: \" + str(idx))\n",
    "        break\n",
    "    #find \"next\" button to go to next page of job listings\n",
    "    try:\n",
    "        next_btn = driver.find_element_by_class_name(\"next\")\n",
    "    except:\n",
    "        print(\"end of search, final index: \" + str(idx))\n",
    "    #if there is no next button, finish the search\n",
    "    if len(next_btn.find_elements_by_class_name(\"disabled \")) != 0:\n",
    "        print(\"end of search, final index: \" + str(idx))\n",
    "        break\n",
    "    #click the next button\n",
    "    next_btn.click()\n",
    "    #tell webdriver to wait until it finds the job listing elements on the new page\n",
    "    WebDriverWait(driver, 100).until(lambda driver: driver.find_elements_by_class_name(\"jl\"))\n",
    "    #let the user know how many job listings have been scraped\n",
    "    print(\"end of round, new index: \" + str(idx))"
   ]
  },
  {
   "cell_type": "code",
   "execution_count": 37,
   "metadata": {},
   "outputs": [],
   "source": [
    "with open('../00-data/joblist_raw.csv', 'wb')as csvfile:\n",
    "    fieldnames = ['title', 'company', 'location', 'description', 'salary', 'link']\n",
    "    writer = csv.DictWriter(csvfile, fieldnames=fieldnames,quoting=csv.QUOTE_ALL, encoding='utf-8')\n",
    "    writer.writeheader()\n",
    "    for key,value in results.items():\n",
    "        writer.writerow(value)"
   ]
  },
  {
   "cell_type": "markdown",
   "metadata": {},
   "source": [
    "## Contributions \n",
    "-By own: 80%  \n",
    "-By online resources: 20%  "
   ]
  },
  {
   "cell_type": "markdown",
   "metadata": {},
   "source": [
    "## Citations\n",
    "1. https://github.com/natmod/glassdoor-scrape"
   ]
  },
  {
   "cell_type": "markdown",
   "metadata": {},
   "source": [
    "## License\n",
    "\n",
    "Copyright 2019 COPYRIGHT Yunan Shao\n",
    "\n",
    "Permission is hereby granted, free of charge, to any person obtaining a copy of this software and associated documentation files (the \"Software\"), to deal in the Software without restriction, including without limitation the rights to use, copy, modify, merge, publish, distribute, sublicense, and/or sell copies of the Software, and to permit persons to whom the Software is furnished to do so, subject to the following conditions:\n",
    "\n",
    "The above copyright notice and this permission notice shall be included in all copies or substantial portions of the Software.\n",
    "\n",
    "THE SOFTWARE IS PROVIDED \"AS IS\", WITHOUT WARRANTY OF ANY KIND, EXPRESS OR IMPLIED, INCLUDING BUT NOT LIMITED TO THE WARRANTIES OF MERCHANTABILITY, FITNESS FOR A PARTICULAR PURPOSE AND NONINFRINGEMENT. IN NO EVENT SHALL THE AUTHORS OR COPYRIGHT HOLDERS BE LIABLE FOR ANY CLAIM, DAMAGES OR OTHER LIABILITY, WHETHER IN AN ACTION OF CONTRACT, TORT OR OTHERWISE, ARISING FROM, OUT OF OR IN CONNECTION WITH THE SOFTWARE OR THE USE OR OTHER DEALINGS IN THE SOFTWARE."
   ]
  },
  {
   "cell_type": "code",
   "execution_count": null,
   "metadata": {},
   "outputs": [],
   "source": []
  }
 ],
 "metadata": {
  "kernelspec": {
   "display_name": "Python 3",
   "language": "python",
   "name": "python3"
  },
  "language_info": {
   "codemirror_mode": {
    "name": "ipython",
    "version": 3
   },
   "file_extension": ".py",
   "mimetype": "text/x-python",
   "name": "python",
   "nbconvert_exporter": "python",
   "pygments_lexer": "ipython3",
   "version": "3.7.1"
  }
 },
 "nbformat": 4,
 "nbformat_minor": 2
}
