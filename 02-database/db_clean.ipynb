{
 "cells": [
  {
   "cell_type": "markdown",
   "metadata": {},
   "source": [
    "# Raw Data Combining & Cleaning\n",
    "\n",
    "## Steps\n",
    "1. Combine the csv files from different query results (set with your output file name accordingly)\n",
    "2. Remove duplicates\n",
    "3. Filter and get target jobs\n",
    "4. Generate a new csv file\n",
    "\n",
    "## Because this notebook only contains basic functions of pandas library. So, no citation or licence."
   ]
  },
  {
   "cell_type": "code",
   "execution_count": 1,
   "metadata": {},
   "outputs": [],
   "source": [
    "import pandas as pd"
   ]
  },
  {
   "cell_type": "code",
   "execution_count": 2,
   "metadata": {},
   "outputs": [
    {
     "data": {
      "text/plain": [
       "title          951\n",
       "company        951\n",
       "location       951\n",
       "description    951\n",
       "salary         656\n",
       "link           684\n",
       "dtype: int64"
      ]
     },
     "execution_count": 2,
     "metadata": {},
     "output_type": "execute_result"
    }
   ],
   "source": [
    "rdf=pd.read_csv('../00-data/joblist_raw_all.csv')\n",
    "rdf_scientist=pd.read_csv('../00-data/joblist_raw_scientist.csv')\n",
    "rdf_engineer=pd.read_csv('../00-data/joblist_raw_engineer.csv')\n",
    "rdf.count()"
   ]
  },
  {
   "cell_type": "code",
   "execution_count": 3,
   "metadata": {},
   "outputs": [
    {
     "data": {
      "text/plain": [
       "title          1883\n",
       "company        1883\n",
       "location       1883\n",
       "description    1881\n",
       "salary         1221\n",
       "link           1381\n",
       "dtype: int64"
      ]
     },
     "execution_count": 3,
     "metadata": {},
     "output_type": "execute_result"
    }
   ],
   "source": [
    "rdf = rdf.append(rdf_scientist, ignore_index=True)\n",
    "rdf.count()"
   ]
  },
  {
   "cell_type": "code",
   "execution_count": 4,
   "metadata": {},
   "outputs": [
    {
     "data": {
      "text/plain": [
       "title          2790\n",
       "company        2790\n",
       "location       2790\n",
       "description    2788\n",
       "salary         1631\n",
       "link           2126\n",
       "dtype: int64"
      ]
     },
     "execution_count": 4,
     "metadata": {},
     "output_type": "execute_result"
    }
   ],
   "source": [
    "rdf = rdf.append(rdf_engineer, ignore_index=True)\n",
    "rdf.count()"
   ]
  },
  {
   "cell_type": "code",
   "execution_count": 5,
   "metadata": {},
   "outputs": [
    {
     "data": {
      "text/plain": [
       "title          2540\n",
       "company        2540\n",
       "location       2540\n",
       "description    2538\n",
       "salary         1510\n",
       "link           2125\n",
       "dtype: int64"
      ]
     },
     "execution_count": 5,
     "metadata": {},
     "output_type": "execute_result"
    }
   ],
   "source": [
    "rdf=rdf.drop_duplicates()\n",
    "rdf.count()"
   ]
  },
  {
   "cell_type": "code",
   "execution_count": 6,
   "metadata": {},
   "outputs": [
    {
     "data": {
      "text/html": [
       "<div>\n",
       "<style scoped>\n",
       "    .dataframe tbody tr th:only-of-type {\n",
       "        vertical-align: middle;\n",
       "    }\n",
       "\n",
       "    .dataframe tbody tr th {\n",
       "        vertical-align: top;\n",
       "    }\n",
       "\n",
       "    .dataframe thead th {\n",
       "        text-align: right;\n",
       "    }\n",
       "</style>\n",
       "<table border=\"1\" class=\"dataframe\">\n",
       "  <thead>\n",
       "    <tr style=\"text-align: right;\">\n",
       "      <th></th>\n",
       "      <th>title</th>\n",
       "      <th>company</th>\n",
       "      <th>location</th>\n",
       "      <th>description</th>\n",
       "      <th>salary</th>\n",
       "      <th>link</th>\n",
       "    </tr>\n",
       "  </thead>\n",
       "  <tbody>\n",
       "    <tr>\n",
       "      <th>0</th>\n",
       "      <td>Computer Vision Scientist/Engineer</td>\n",
       "      <td>Expedition Technology, Inc.</td>\n",
       "      <td>Dulles, VA</td>\n",
       "      <td>Computer Vision Scientist/Engineer\\r\\n\\r\\nAt E...</td>\n",
       "      <td>NaN</td>\n",
       "      <td>NaN</td>\n",
       "    </tr>\n",
       "    <tr>\n",
       "      <th>1</th>\n",
       "      <td>Staff Computer Vision Scientist</td>\n",
       "      <td>WeWork</td>\n",
       "      <td>Palo Alto, CA</td>\n",
       "      <td>Research Scientist/Manager:\\r\\nComputer Vision...</td>\n",
       "      <td>NaN</td>\n",
       "      <td>https://www.glassdoor.com/partner/jobListing.h...</td>\n",
       "    </tr>\n",
       "    <tr>\n",
       "      <th>2</th>\n",
       "      <td>Vice President, Software Engineering</td>\n",
       "      <td>Kencast</td>\n",
       "      <td>Norwalk, CT</td>\n",
       "      <td>As a Vice President of Software Engineering, y...</td>\n",
       "      <td>NaN</td>\n",
       "      <td>NaN</td>\n",
       "    </tr>\n",
       "    <tr>\n",
       "      <th>3</th>\n",
       "      <td>Grok Code? Software Engineer Wanted!</td>\n",
       "      <td>Active911</td>\n",
       "      <td>Corvallis, OR</td>\n",
       "      <td>Active911, Inc. is looking for one or more sup...</td>\n",
       "      <td>Employer Provided Salary:$50K-$80K</td>\n",
       "      <td>https://www.glassdoor.com/partner/jobListing.h...</td>\n",
       "    </tr>\n",
       "    <tr>\n",
       "      <th>4</th>\n",
       "      <td>Embedded Software Engineer</td>\n",
       "      <td>SareKon Inc</td>\n",
       "      <td>Rochester, NY</td>\n",
       "      <td>Position\\r\\n\\r\\nThe Embedded Software Engineer...</td>\n",
       "      <td>NaN</td>\n",
       "      <td>NaN</td>\n",
       "    </tr>\n",
       "  </tbody>\n",
       "</table>\n",
       "</div>"
      ],
      "text/plain": [
       "                                  title                      company  \\\n",
       "0    Computer Vision Scientist/Engineer  Expedition Technology, Inc.   \n",
       "1       Staff Computer Vision Scientist                       WeWork   \n",
       "2  Vice President, Software Engineering                      Kencast   \n",
       "3  Grok Code? Software Engineer Wanted!                    Active911   \n",
       "4            Embedded Software Engineer                  SareKon Inc   \n",
       "\n",
       "        location                                        description  \\\n",
       "0     Dulles, VA  Computer Vision Scientist/Engineer\\r\\n\\r\\nAt E...   \n",
       "1  Palo Alto, CA  Research Scientist/Manager:\\r\\nComputer Vision...   \n",
       "2    Norwalk, CT  As a Vice President of Software Engineering, y...   \n",
       "3  Corvallis, OR  Active911, Inc. is looking for one or more sup...   \n",
       "4  Rochester, NY  Position\\r\\n\\r\\nThe Embedded Software Engineer...   \n",
       "\n",
       "                               salary  \\\n",
       "0                                 NaN   \n",
       "1                                 NaN   \n",
       "2                                 NaN   \n",
       "3  Employer Provided Salary:$50K-$80K   \n",
       "4                                 NaN   \n",
       "\n",
       "                                                link  \n",
       "0                                                NaN  \n",
       "1  https://www.glassdoor.com/partner/jobListing.h...  \n",
       "2                                                NaN  \n",
       "3  https://www.glassdoor.com/partner/jobListing.h...  \n",
       "4                                                NaN  "
      ]
     },
     "execution_count": 6,
     "metadata": {},
     "output_type": "execute_result"
    }
   ],
   "source": [
    "rdf.head()"
   ]
  },
  {
   "cell_type": "code",
   "execution_count": 8,
   "metadata": {},
   "outputs": [
    {
     "data": {
      "text/plain": [
       "title          677\n",
       "company        677\n",
       "location       677\n",
       "description    677\n",
       "salary         286\n",
       "link           581\n",
       "dtype: int64"
      ]
     },
     "execution_count": 8,
     "metadata": {},
     "output_type": "execute_result"
    }
   ],
   "source": [
    "fdf=rdf[rdf['title'].str.contains(\"vision|image|recognition|learning|robotic|robot|visual|artificial|detection\", case=False)==True]\n",
    "fdf.count()"
   ]
  },
  {
   "cell_type": "code",
   "execution_count": 9,
   "metadata": {},
   "outputs": [
    {
     "data": {
      "text/html": [
       "<div>\n",
       "<style scoped>\n",
       "    .dataframe tbody tr th:only-of-type {\n",
       "        vertical-align: middle;\n",
       "    }\n",
       "\n",
       "    .dataframe tbody tr th {\n",
       "        vertical-align: top;\n",
       "    }\n",
       "\n",
       "    .dataframe thead th {\n",
       "        text-align: right;\n",
       "    }\n",
       "</style>\n",
       "<table border=\"1\" class=\"dataframe\">\n",
       "  <thead>\n",
       "    <tr style=\"text-align: right;\">\n",
       "      <th></th>\n",
       "      <th>title</th>\n",
       "      <th>company</th>\n",
       "      <th>location</th>\n",
       "      <th>description</th>\n",
       "      <th>salary</th>\n",
       "      <th>link</th>\n",
       "    </tr>\n",
       "  </thead>\n",
       "  <tbody>\n",
       "    <tr>\n",
       "      <th>0</th>\n",
       "      <td>Computer Vision Scientist/Engineer</td>\n",
       "      <td>Expedition Technology, Inc.</td>\n",
       "      <td>Dulles, VA</td>\n",
       "      <td>Computer Vision Scientist/Engineer\\r\\n\\r\\nAt E...</td>\n",
       "      <td>NaN</td>\n",
       "      <td>NaN</td>\n",
       "    </tr>\n",
       "    <tr>\n",
       "      <th>1</th>\n",
       "      <td>Staff Computer Vision Scientist</td>\n",
       "      <td>WeWork</td>\n",
       "      <td>Palo Alto, CA</td>\n",
       "      <td>Research Scientist/Manager:\\r\\nComputer Vision...</td>\n",
       "      <td>NaN</td>\n",
       "      <td>https://www.glassdoor.com/partner/jobListing.h...</td>\n",
       "    </tr>\n",
       "    <tr>\n",
       "      <th>32</th>\n",
       "      <td>Data Scientist, Deep Learning/Computer Vision</td>\n",
       "      <td>Yummly</td>\n",
       "      <td>Redwood City, CA</td>\n",
       "      <td>Born from the belief that great things come to...</td>\n",
       "      <td>$124K-$170K (Glassdoor est.)</td>\n",
       "      <td>https://www.glassdoor.com/partner/jobListing.h...</td>\n",
       "    </tr>\n",
       "    <tr>\n",
       "      <th>33</th>\n",
       "      <td>Computer Vision Research Engineer</td>\n",
       "      <td>Expedition Technology, Inc.</td>\n",
       "      <td>Dulles, VA</td>\n",
       "      <td>Computer Vision Research Engineer\\r\\n\\r\\nAt Ex...</td>\n",
       "      <td>NaN</td>\n",
       "      <td>NaN</td>\n",
       "    </tr>\n",
       "    <tr>\n",
       "      <th>52</th>\n",
       "      <td>Senior Software Engineer for OFP Development F...</td>\n",
       "      <td>Decisive Analytics</td>\n",
       "      <td>Dayton, OH</td>\n",
       "      <td>Overview\\r\\n\\r\\nDECISIVE ANALYTICS Corporation...</td>\n",
       "      <td>$53K-$94K (Glassdoor est.)</td>\n",
       "      <td>https://www.glassdoor.com/partner/jobListing.h...</td>\n",
       "    </tr>\n",
       "  </tbody>\n",
       "</table>\n",
       "</div>"
      ],
      "text/plain": [
       "                                                title  \\\n",
       "0                  Computer Vision Scientist/Engineer   \n",
       "1                     Staff Computer Vision Scientist   \n",
       "32      Data Scientist, Deep Learning/Computer Vision   \n",
       "33                  Computer Vision Research Engineer   \n",
       "52  Senior Software Engineer for OFP Development F...   \n",
       "\n",
       "                        company          location  \\\n",
       "0   Expedition Technology, Inc.        Dulles, VA   \n",
       "1                        WeWork     Palo Alto, CA   \n",
       "32                       Yummly  Redwood City, CA   \n",
       "33  Expedition Technology, Inc.        Dulles, VA   \n",
       "52           Decisive Analytics        Dayton, OH   \n",
       "\n",
       "                                          description  \\\n",
       "0   Computer Vision Scientist/Engineer\\r\\n\\r\\nAt E...   \n",
       "1   Research Scientist/Manager:\\r\\nComputer Vision...   \n",
       "32  Born from the belief that great things come to...   \n",
       "33  Computer Vision Research Engineer\\r\\n\\r\\nAt Ex...   \n",
       "52  Overview\\r\\n\\r\\nDECISIVE ANALYTICS Corporation...   \n",
       "\n",
       "                          salary  \\\n",
       "0                            NaN   \n",
       "1                            NaN   \n",
       "32  $124K-$170K (Glassdoor est.)   \n",
       "33                           NaN   \n",
       "52    $53K-$94K (Glassdoor est.)   \n",
       "\n",
       "                                                 link  \n",
       "0                                                 NaN  \n",
       "1   https://www.glassdoor.com/partner/jobListing.h...  \n",
       "32  https://www.glassdoor.com/partner/jobListing.h...  \n",
       "33                                                NaN  \n",
       "52  https://www.glassdoor.com/partner/jobListing.h...  "
      ]
     },
     "execution_count": 9,
     "metadata": {},
     "output_type": "execute_result"
    }
   ],
   "source": [
    "fdf.head()"
   ]
  },
  {
   "cell_type": "code",
   "execution_count": 9,
   "metadata": {},
   "outputs": [],
   "source": [
    "fdf.to_csv('../00-data/joblist_combined.csv',encoding='utf-8', index=False)"
   ]
  },
  {
   "cell_type": "code",
   "execution_count": null,
   "metadata": {},
   "outputs": [],
   "source": []
  }
 ],
 "metadata": {
  "kernelspec": {
   "display_name": "Python 3",
   "language": "python",
   "name": "python3"
  },
  "language_info": {
   "codemirror_mode": {
    "name": "ipython",
    "version": 3
   },
   "file_extension": ".py",
   "mimetype": "text/x-python",
   "name": "python",
   "nbconvert_exporter": "python",
   "pygments_lexer": "ipython3",
   "version": "3.7.1"
  }
 },
 "nbformat": 4,
 "nbformat_minor": 2
}
